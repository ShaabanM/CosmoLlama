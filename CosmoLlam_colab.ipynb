{
  "nbformat": 4,
  "nbformat_minor": 0,
  "metadata": {
    "colab": {
      "provenance": [],
      "authorship_tag": "ABX9TyP3G8YbEGq0WR3mULC6g1+g",
      "include_colab_link": true
    },
    "kernelspec": {
      "name": "python3",
      "display_name": "Python 3"
    },
    "language_info": {
      "name": "python"
    }
  },
  "cells": [
    {
      "cell_type": "markdown",
      "metadata": {
        "id": "view-in-github",
        "colab_type": "text"
      },
      "source": [
        "<a href=\"https://colab.research.google.com/github/ShaabanM/CosmoLlama/blob/main/CosmoLlam_colab.ipynb\" target=\"_parent\"><img src=\"https://colab.research.google.com/assets/colab-badge.svg\" alt=\"Open In Colab\"/></a>"
      ]
    },
    {
      "cell_type": "markdown",
      "source": [
        "# CosmoLlama V0"
      ],
      "metadata": {
        "id": "ivgrIijaRBdp"
      }
    },
    {
      "cell_type": "code",
      "source": [],
      "metadata": {
        "id": "lWnERX9CRZV7"
      },
      "execution_count": null,
      "outputs": []
    }
  ]
}