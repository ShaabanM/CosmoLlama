{
 "cells": [
  {
   "cell_type": "markdown",
   "id": "18c9f8fd-917c-44b1-b682-8e04a2724603",
   "metadata": {},
   "source": [
    "# Install Dependenceis"
   ]
  },
  {
   "cell_type": "code",
   "execution_count": 1,
   "id": "be28c23e",
   "metadata": {
    "tags": []
   },
   "outputs": [
    {
     "name": "stdout",
     "output_type": "stream",
     "text": [
      "Requirement already satisfied: arxiv in /Users/mshaaban/anaconda3/lib/python3.11/site-packages (2.1.3)\n",
      "Requirement already satisfied: feedparser~=6.0.10 in /Users/mshaaban/anaconda3/lib/python3.11/site-packages (from arxiv) (6.0.11)\n",
      "Requirement already satisfied: requests~=2.32.0 in /Users/mshaaban/anaconda3/lib/python3.11/site-packages (from arxiv) (2.32.3)\n",
      "Requirement already satisfied: sgmllib3k in /Users/mshaaban/anaconda3/lib/python3.11/site-packages (from feedparser~=6.0.10->arxiv) (1.0.0)\n",
      "Requirement already satisfied: charset-normalizer<4,>=2 in /Users/mshaaban/anaconda3/lib/python3.11/site-packages (from requests~=2.32.0->arxiv) (3.3.2)\n",
      "Requirement already satisfied: idna<4,>=2.5 in /Users/mshaaban/anaconda3/lib/python3.11/site-packages (from requests~=2.32.0->arxiv) (3.7)\n",
      "Requirement already satisfied: urllib3<3,>=1.21.1 in /Users/mshaaban/anaconda3/lib/python3.11/site-packages (from requests~=2.32.0->arxiv) (2.2.1)\n",
      "Requirement already satisfied: certifi>=2017.4.17 in /Users/mshaaban/anaconda3/lib/python3.11/site-packages (from requests~=2.32.0->arxiv) (2023.11.17)\n"
     ]
    }
   ],
   "source": [
    "!pip install arxiv"
   ]
  },
  {
   "cell_type": "code",
   "execution_count": 8,
   "id": "68876a6a-38f9-436c-90cc-1aa0da6e0672",
   "metadata": {
    "tags": []
   },
   "outputs": [
    {
     "name": "stderr",
     "output_type": "stream",
     "text": [
      "/var/folders/dk/_jsct97d31z82cbdbr4t0d100000gn/T/ipykernel_94442/754576131.py:13: DeprecationWarning: The 'Search.results' method is deprecated, use 'Client.results' instead\n",
      "  for result in search.results():\n"
     ]
    }
   ],
   "source": [
    "import arxiv\n",
    "import pandas as pd\n",
    "\n",
    "def fetch_top_cosmology_papers_abstracts(max_results=500):\n",
    "    search_query = 'cat:astro-ph.CO'  # Cosmology and Nongalactic Astrophysics category in arXiv\n",
    "    search = arxiv.Search(\n",
    "        query=search_query,\n",
    "        max_results=max_results,\n",
    "        sort_by=arxiv.SortCriterion.Relevance\n",
    "    )\n",
    "\n",
    "    papers = []\n",
    "    for result in search.results():\n",
    "        paper_info = {\n",
    "            \"title\": result.title,\n",
    "            \"authors\": [author.name for author in result.authors],\n",
    "            \"abstract\": result.summary,\n",
    "            \"url\": result.entry_id\n",
    "        }\n",
    "        papers.append(paper_info)\n",
    "\n",
    "    return papers\n",
    "\n",
    "# Fetch the papers\n",
    "top_cosmology_papers = pd.DataFrame(fetch_top_cosmology_papers_abstracts())"
   ]
  },
  {
   "cell_type": "code",
   "execution_count": 9,
   "id": "9f91304d-2bd5-4f34-9e8a-a3bcfad1425a",
   "metadata": {
    "tags": []
   },
   "outputs": [
    {
     "data": {
      "text/html": [
       "<div>\n",
       "<style scoped>\n",
       "    .dataframe tbody tr th:only-of-type {\n",
       "        vertical-align: middle;\n",
       "    }\n",
       "\n",
       "    .dataframe tbody tr th {\n",
       "        vertical-align: top;\n",
       "    }\n",
       "\n",
       "    .dataframe thead th {\n",
       "        text-align: right;\n",
       "    }\n",
       "</style>\n",
       "<table border=\"1\" class=\"dataframe\">\n",
       "  <thead>\n",
       "    <tr style=\"text-align: right;\">\n",
       "      <th></th>\n",
       "      <th>title</th>\n",
       "      <th>authors</th>\n",
       "      <th>abstract</th>\n",
       "      <th>url</th>\n",
       "    </tr>\n",
       "  </thead>\n",
       "  <tbody>\n",
       "    <tr>\n",
       "      <th>0</th>\n",
       "      <td>Non-Minimal Quintessence With Nearly Flat Pote...</td>\n",
       "      <td>[Anjan A Sen, Gaveshna Gupta, Sudipta Das]</td>\n",
       "      <td>We consider Brans-Dicke type nonminimally coup...</td>\n",
       "      <td>http://arxiv.org/abs/0901.0173v1</td>\n",
       "    </tr>\n",
       "    <tr>\n",
       "      <th>1</th>\n",
       "      <td>Robust determination of the major merger fract...</td>\n",
       "      <td>[C. López-Sanjuan, M. Balcells, C. E. García-D...</td>\n",
       "      <td>(Abridged) We measure the fraction of galaxies...</td>\n",
       "      <td>http://arxiv.org/abs/0901.0189v1</td>\n",
       "    </tr>\n",
       "    <tr>\n",
       "      <th>2</th>\n",
       "      <td>Neutrino Masses, Dark Energy and the Gravitati...</td>\n",
       "      <td>[R. Benton Metcalf]</td>\n",
       "      <td>We study the constraints which the next genera...</td>\n",
       "      <td>http://arxiv.org/abs/0901.0245v2</td>\n",
       "    </tr>\n",
       "    <tr>\n",
       "      <th>3</th>\n",
       "      <td>Impact of Instrumental Systematic Contaminatio...</td>\n",
       "      <td>[Meng Su, Amit P. S. Yadav, Matias Zaldarriaga]</td>\n",
       "      <td>In this paper, we study the effects of instrum...</td>\n",
       "      <td>http://arxiv.org/abs/0901.0285v1</td>\n",
       "    </tr>\n",
       "    <tr>\n",
       "      <th>4</th>\n",
       "      <td>Tracing the Reionization-Epoch Intergalactic M...</td>\n",
       "      <td>[Benjamin D. Oppenheimer, Romeel Davé, Kristia...</td>\n",
       "      <td>IGM metal absorption lines observed in z&gt;6 spe...</td>\n",
       "      <td>http://arxiv.org/abs/0901.0286v2</td>\n",
       "    </tr>\n",
       "    <tr>\n",
       "      <th>...</th>\n",
       "      <td>...</td>\n",
       "      <td>...</td>\n",
       "      <td>...</td>\n",
       "      <td>...</td>\n",
       "    </tr>\n",
       "    <tr>\n",
       "      <th>495</th>\n",
       "      <td>Sharpening the Precision of the Sunyaev-Zel'do...</td>\n",
       "      <td>[L. D. Shaw, O. Zahn, G. P. Holder, O. Doré]</td>\n",
       "      <td>Using both halo model calculations and a large...</td>\n",
       "      <td>http://arxiv.org/abs/0903.5322v1</td>\n",
       "    </tr>\n",
       "    <tr>\n",
       "      <th>496</th>\n",
       "      <td>The size evolution of galaxy discs formed with...</td>\n",
       "      <td>[C. Firmani, V. Avila-Reese]</td>\n",
       "      <td>By means of galaxy evolutionary models, we exp...</td>\n",
       "      <td>http://arxiv.org/abs/0903.5325v2</td>\n",
       "    </tr>\n",
       "    <tr>\n",
       "      <th>497</th>\n",
       "      <td>Gravity heats the Universe</td>\n",
       "      <td>[Adam Moss, Douglas Scott]</td>\n",
       "      <td>Structure in the Universe grew through gravita...</td>\n",
       "      <td>http://arxiv.org/abs/0903.5330v1</td>\n",
       "    </tr>\n",
       "    <tr>\n",
       "      <th>498</th>\n",
       "      <td>ESO 381-47, an early-type galaxy with extended...</td>\n",
       "      <td>[Jennifer L. Donovan, Paolo Serra, J. H. van G...</td>\n",
       "      <td>ESO 381-47 is an early type galaxy with an ext...</td>\n",
       "      <td>http://arxiv.org/abs/0903.5331v1</td>\n",
       "    </tr>\n",
       "    <tr>\n",
       "      <th>499</th>\n",
       "      <td>Galaxy Zoo: an unusual new class of galaxy clu...</td>\n",
       "      <td>[Marven F. Pedbost, Trillean Pomalgu, the Gala...</td>\n",
       "      <td>We have identified a new class of galaxy clust...</td>\n",
       "      <td>http://arxiv.org/abs/0903.5377v1</td>\n",
       "    </tr>\n",
       "  </tbody>\n",
       "</table>\n",
       "<p>500 rows × 4 columns</p>\n",
       "</div>"
      ],
      "text/plain": [
       "                                                 title  \\\n",
       "0    Non-Minimal Quintessence With Nearly Flat Pote...   \n",
       "1    Robust determination of the major merger fract...   \n",
       "2    Neutrino Masses, Dark Energy and the Gravitati...   \n",
       "3    Impact of Instrumental Systematic Contaminatio...   \n",
       "4    Tracing the Reionization-Epoch Intergalactic M...   \n",
       "..                                                 ...   \n",
       "495  Sharpening the Precision of the Sunyaev-Zel'do...   \n",
       "496  The size evolution of galaxy discs formed with...   \n",
       "497                         Gravity heats the Universe   \n",
       "498  ESO 381-47, an early-type galaxy with extended...   \n",
       "499  Galaxy Zoo: an unusual new class of galaxy clu...   \n",
       "\n",
       "                                               authors  \\\n",
       "0           [Anjan A Sen, Gaveshna Gupta, Sudipta Das]   \n",
       "1    [C. López-Sanjuan, M. Balcells, C. E. García-D...   \n",
       "2                                  [R. Benton Metcalf]   \n",
       "3      [Meng Su, Amit P. S. Yadav, Matias Zaldarriaga]   \n",
       "4    [Benjamin D. Oppenheimer, Romeel Davé, Kristia...   \n",
       "..                                                 ...   \n",
       "495       [L. D. Shaw, O. Zahn, G. P. Holder, O. Doré]   \n",
       "496                       [C. Firmani, V. Avila-Reese]   \n",
       "497                         [Adam Moss, Douglas Scott]   \n",
       "498  [Jennifer L. Donovan, Paolo Serra, J. H. van G...   \n",
       "499  [Marven F. Pedbost, Trillean Pomalgu, the Gala...   \n",
       "\n",
       "                                              abstract  \\\n",
       "0    We consider Brans-Dicke type nonminimally coup...   \n",
       "1    (Abridged) We measure the fraction of galaxies...   \n",
       "2    We study the constraints which the next genera...   \n",
       "3    In this paper, we study the effects of instrum...   \n",
       "4    IGM metal absorption lines observed in z>6 spe...   \n",
       "..                                                 ...   \n",
       "495  Using both halo model calculations and a large...   \n",
       "496  By means of galaxy evolutionary models, we exp...   \n",
       "497  Structure in the Universe grew through gravita...   \n",
       "498  ESO 381-47 is an early type galaxy with an ext...   \n",
       "499  We have identified a new class of galaxy clust...   \n",
       "\n",
       "                                  url  \n",
       "0    http://arxiv.org/abs/0901.0173v1  \n",
       "1    http://arxiv.org/abs/0901.0189v1  \n",
       "2    http://arxiv.org/abs/0901.0245v2  \n",
       "3    http://arxiv.org/abs/0901.0285v1  \n",
       "4    http://arxiv.org/abs/0901.0286v2  \n",
       "..                                ...  \n",
       "495  http://arxiv.org/abs/0903.5322v1  \n",
       "496  http://arxiv.org/abs/0903.5325v2  \n",
       "497  http://arxiv.org/abs/0903.5330v1  \n",
       "498  http://arxiv.org/abs/0903.5331v1  \n",
       "499  http://arxiv.org/abs/0903.5377v1  \n",
       "\n",
       "[500 rows x 4 columns]"
      ]
     },
     "execution_count": 9,
     "metadata": {},
     "output_type": "execute_result"
    }
   ],
   "source": [
    "top_cosmology_papers"
   ]
  },
  {
   "cell_type": "code",
   "execution_count": null,
   "id": "f36e5965-28ab-402b-b72f-9419bb8231de",
   "metadata": {},
   "outputs": [],
   "source": []
  }
 ],
 "metadata": {
  "kernelspec": {
   "display_name": "Python 3 (ipykernel)",
   "language": "python",
   "name": "python3"
  },
  "language_info": {
   "codemirror_mode": {
    "name": "ipython",
    "version": 3
   },
   "file_extension": ".py",
   "mimetype": "text/x-python",
   "name": "python",
   "nbconvert_exporter": "python",
   "pygments_lexer": "ipython3",
   "version": "3.11.5"
  }
 },
 "nbformat": 4,
 "nbformat_minor": 5
}
